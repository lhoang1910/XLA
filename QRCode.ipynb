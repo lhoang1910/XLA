{
 "cells": [
  {
   "cell_type": "code",
   "execution_count": null,
   "metadata": {},
   "outputs": [],
   "source": [
    "import cv2\n",
    "from pyzbar.pyzbar import decode\n",
    "import numpy as np"
   ]
  },
  {
   "cell_type": "code",
   "execution_count": null,
   "metadata": {},
   "outputs": [],
   "source": [
    "def preprocess_image(image):\n",
    "    # Chuyển đổi sang ảnh xám\n",
    "    gray = cv2.cvtColor(image, cv2.COLOR_BGR2GRAY)\n",
    "\n",
    "    # Áp dụng bộ lọc Gaussian để làm mịn ảnh\n",
    "    blurred = cv2.GaussianBlur(gray, (5, 5), 0)\n",
    "\n",
    "    # Sử dụng phép chia để làm tăng độ tương phản của ảnh\n",
    "    contrast = cv2.divide(gray, blurred, scale=255)\n",
    "\n",
    "    return contrast"
   ]
  },
  {
   "cell_type": "code",
   "execution_count": null,
   "metadata": {},
   "outputs": [],
   "source": [
    "def detect_and_decode_qr(image_path):\n",
    "    # Đọc hình ảnh\n",
    "    img = cv2.imread(image_path)\n",
    "\n",
    "    # Tiền xử lý hình ảnh\n",
    "    preprocessed_img = preprocess_image(img)\n",
    "\n",
    "    # Nhận diện mã QR\n",
    "    decoded_objects = decode(preprocessed_img)\n",
    "\n",
    "    qr_contents = []\n",
    "    qr_positions = []\n",
    "\n",
    "    # Lặp qua các đối tượng đã được giải mã\n",
    "    for obj in decoded_objects:\n",
    "        qr_contents.append(obj.data.decode('utf-8'))\n",
    "        # Tính toán vị trí của mã QR\n",
    "        qr_positions.append(obj.rect)\n",
    "    \n",
    "    return qr_contents, qr_positions"
   ]
  },
  {
   "cell_type": "code",
   "execution_count": null,
   "metadata": {},
   "outputs": [],
   "source": [
    "def main():\n",
    "    image_path = './Img/case2.png'  \n",
    "    qr_contents, qr_positions = detect_and_decode_qr(image_path)\n",
    "\n",
    "    if len(qr_contents) == 0:\n",
    "        print(\"Không tìm thấy mã QR trong hình ảnh.\")\n",
    "    else:\n",
    "        for content, position in zip(qr_contents, qr_positions):\n",
    "            print(f\"Nội dung của mã QR: {content}\")\n",
    "            print(f\"Vị trí của mã QR: {position}\")\n",
    "\n",
    "    # Hiển thị hình ảnh với các mã QR đã được nhận diện\n",
    "    img = cv2.imread(image_path)\n",
    "    for position in qr_positions:\n",
    "        # Các điểm của hình chữ nhật quanh QR code\n",
    "        points = np.array([[position[0], position[1]],\n",
    "                           [position[0] + position[2], position[1]],\n",
    "                           [position[0] + position[2], position[1] + position[3]],\n",
    "                           [position[0], position[1] + position[3]]], dtype=np.int32)\n",
    "        # Vẽ hình chữ nhật\n",
    "        img = cv2.polylines(img, [points], True, (0, 255, 0), 3)\n",
    "\n",
    "    for content, position in zip(qr_contents, qr_positions):\n",
    "        cv2.putText(img, content, (position[0], position[1] - 10), cv2.FONT_HERSHEY_SIMPLEX, 0.5, (0, 255, 0), 2)\n",
    "\n",
    "    cv2.imwrite('detected_qr_codes.jpg', img)\n",
    "    cv2.imshow('QR Codes Detected', img)\n",
    "    cv2.waitKey(0)\n",
    "    cv2.destroyAllWindows()"
   ]
  },
  {
   "cell_type": "code",
   "execution_count": 6,
   "metadata": {},
   "outputs": [
    {
     "name": "stdout",
     "output_type": "stream",
     "text": [
      "Không tìm thấy mã QR trong hình ảnh.\n"
     ]
    },
    {
     "name": "stderr",
     "output_type": "stream",
     "text": [
      "qt.qpa.plugin: Could not find the Qt platform plugin \"wayland\" in \"/home/hoang/.local/lib/python3.10/site-packages/cv2/qt/plugins\"\n"
     ]
    }
   ],
   "source": [
    "if __name__ == \"__main__\":\n",
    "    main()"
   ]
  }
 ],
 "metadata": {
  "kernelspec": {
   "display_name": "Python 3",
   "language": "python",
   "name": "python3"
  },
  "language_info": {
   "codemirror_mode": {
    "name": "ipython",
    "version": 3
   },
   "file_extension": ".py",
   "mimetype": "text/x-python",
   "name": "python",
   "nbconvert_exporter": "python",
   "pygments_lexer": "ipython3",
   "version": "3.10.12"
  }
 },
 "nbformat": 4,
 "nbformat_minor": 2
}
