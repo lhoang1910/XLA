{
 "cells": [
  {
   "cell_type": "code",
   "execution_count": 514,
   "metadata": {},
   "outputs": [],
   "source": [
    "import cv2 as cv\n",
    "from pyzbar import pyzbar\n",
    "import matplotlib.pyplot as plt\n",
    "import numpy as np"
   ]
  },
  {
   "cell_type": "code",
   "execution_count": 515,
   "metadata": {},
   "outputs": [],
   "source": [
    "def detect_qr_from_camera():\n",
    "    cap = cv.VideoCapture(0)\n",
    "    while True:\n",
    "        ret, frame = cap.read()\n",
    "        if not ret:\n",
    "            print(\"Không thể đọc khung hình từ camera.\")\n",
    "            break\n",
    "\n",
    "        qrCodes = pyzbar.decode(frame)\n",
    "        for qrCode in qrCodes:\n",
    "            (x, y, w, h) = qrCode.rect\n",
    "            cv.rectangle(frame, (x, y), (x+w, y+h), (0, 255, 255), 2)\n",
    "            qrCodeData = qrCode.data.decode(\"utf-8\")\n",
    "            qrCodeType = qrCode.type\n",
    "            text = \"{} - {}\".format(qrCodeData, qrCodeType)\n",
    "            print(text)\n",
    "            cv.putText(frame, text, (x-10, y-10), cv.FONT_HERSHEY_SIMPLEX, 0.5, (0, 0, 255), 1)\n",
    "\n",
    "        cv.imshow(\"Camera\", frame)\n",
    "        if cv.waitKey(1) == ord('q'):\n",
    "            break\n",
    "\n",
    "    cap.release()\n",
    "    cv.destroyAllWindows()"
   ]
  },
  {
   "cell_type": "code",
   "execution_count": 516,
   "metadata": {},
   "outputs": [],
   "source": [
    "def gamma(img):\n",
    "    # Tính toán giá trị trung bình của ảnh\n",
    "    mean_intensity = np.mean(img)\n",
    "    \n",
    "    # Xác định giá trị gamma phù hợp\n",
    "    if mean_intensity < 100:\n",
    "        g = 0.5  # Đối với ảnh quá tối, sử dụng gamma = 0.5 để tăng độ sáng\n",
    "    elif mean_intensity > 200:\n",
    "        g = 2.0  # Đối với ảnh quá sáng, sử dụng gamma = 2.0 để giảm độ sáng\n",
    "    else:\n",
    "        g = 1.0  # Đối với ảnh có độ sáng trung bình, không cần thay đổi\n",
    "    \n",
    "    # Áp dụng bộ lọc gamma với giá trị g\n",
    "    newImg = np.power(img/255, g) * 255\n",
    "    \n",
    "    return newImg\n"
   ]
  },
  {
   "cell_type": "code",
   "execution_count": 517,
   "metadata": {},
   "outputs": [],
   "source": [
    "def gamma_check(img):\n",
    "    # Tính toán giá trị trung bình của ảnh\n",
    "    mean_intensity = np.mean(img)\n",
    "    \n",
    "    # Xác định giá trị gamma phù hợp\n",
    "    if mean_intensity < 100:\n",
    "        g = 0.5  # Đối với ảnh quá tối, sử dụng gamma = 0.5 để tăng độ sáng\n",
    "    elif mean_intensity > 200:\n",
    "        g = 2.0  # Đối với ảnh quá sáng, sử dụng gamma = 2.0 để giảm độ sáng\n",
    "    else:\n",
    "        g = 1.0  # Đối với ảnh có độ sáng trung bình, không cần thay đổi\n",
    "    \n",
    "    # Áp dụng bộ lọc gamma với giá trị g\n",
    "    newImg = np.power(img/255, g) * 255\n",
    "    \n",
    "    return mean_intensity\n"
   ]
  },
  {
   "cell_type": "code",
   "execution_count": 518,
   "metadata": {},
   "outputs": [],
   "source": [
    "# Định nghĩa bộ lọc 3x3 trung vị của ảnh\n",
    "def medianImg3x3(img):\n",
    "    m, n = img.shape\n",
    "    img_new = np.zeros_like(img)\n",
    "    for i in range(1, m-1):\n",
    "        for j in range(1, n-1):\n",
    "            temp = [img[i-1, j-1], img[i-1, j], img[i-1, j + 1],\n",
    "                    img[i, j-1], img[i, j], img[i, j + 1],\n",
    "                    img[i + 1, j-1], img[i + 1, j], img[i + 1, j + 1]]\n",
    "\n",
    "            temp = sorted(temp)\n",
    "            img_new[i, j] = temp[4]\n",
    "\n",
    "    return img_new"
   ]
  },
  {
   "cell_type": "code",
   "execution_count": 519,
   "metadata": {},
   "outputs": [],
   "source": [
    "def histogram_equalization(img):\n",
    "    # Tính histogram của ảnh\n",
    "    hist, _ = np.histogram(img.flatten(), 256, [0,256])\n",
    "\n",
    "    # Tính toán hàm tích lũy của histogram\n",
    "    cdf = hist.cumsum()\n",
    "\n",
    "    # Chuẩn hóa hàm tích lũy về khoảng [0,255]\n",
    "    cdf_normalized = cdf * hist.max() / cdf.max()\n",
    "\n",
    "    # Tính toán giá trị pixel mới dựa trên hàm tích lũy chuẩn hóa\n",
    "    img_equalized = np.interp(img.flatten(), range(256), cdf_normalized).reshape(img.shape)\n",
    "\n",
    "    return img_equalized.astype(np.uint8)"
   ]
  },
  {
   "cell_type": "code",
   "execution_count": 520,
   "metadata": {},
   "outputs": [],
   "source": [
    "def view(qrCodes_processed, image, img):    \n",
    "    for qrCode in qrCodes_processed:\n",
    "        (x, y, w, h) = qrCode.rect\n",
    "        cv.rectangle(image, (x, y), (x+w, y+h), (0, 255, 255), 2)\n",
    "        qrCodeData = qrCode.data.decode(\"utf-8\")\n",
    "        qrCodeType = qrCode.type\n",
    "        text = \"{} - {}\".format(qrCodeData, qrCodeType)\n",
    "        print(text)\n",
    "        cv.putText(image, text, (x-10, y-10), cv.FONT_HERSHEY_SIMPLEX, 0.5, (0, 0, 255), 1)\n",
    "\n",
    "    cv.imshow(\"Phat hien QR code\", image)  \n",
    "    cv.imshow(\"Anh goc\", img) \n",
    "\n",
    "    key = cv.waitKey(0)\n",
    "\n",
    "    if key == ord('q'):\n",
    "        cv.destroyAllWindows()\n"
   ]
  },
  {
   "cell_type": "code",
   "execution_count": 521,
   "metadata": {},
   "outputs": [],
   "source": [
    "def detect_qr_from_image(image_path):\n",
    "    image = cv.imread(image_path)\n",
    "    if image is None:\n",
    "        print(\"Không thể đọc ảnh từ đường dẫn được cung cấp.\")\n",
    "        return\n",
    "\n",
    "    gray = cv.cvtColor(image, cv.COLOR_BGR2GRAY)\n",
    "\n",
    "    qrCodes = pyzbar.decode(image)\n",
    "\n",
    "    if len(qrCodes) == 0:\n",
    "        print(\"Không tìm thấy mã QR trong ảnh.\")\n",
    "\n",
    "        clahe = cv.createCLAHE(clipLimit=15.0, tileGridSize=(35, 35))\n",
    "        equalized_gray = clahe.apply(gray)\n",
    "        qrCodes = pyzbar.decode(equalized_gray)\n",
    "        if len(qrCodes) == 0:\n",
    "            print(\"Không phát hiện được mã QR trên ảnh sau khi được xử lý bằng cân bằng histogram\")\n",
    "            # Xử lý ảnh bằng medianImg3x3\n",
    "            processed_image = medianImg3x3(equalized_gray)\n",
    "            # Phát hiện mã QR trên ảnh đã được làm mờ\n",
    "            qrCodes = pyzbar.decode(processed_image)\n",
    "\n",
    "            if len(qrCodes) == 0:\n",
    "                print(\"Không phát hiện được mã QR trên ảnh sau khi được xử lý bằng cân bằng trung vị\")\n",
    "            else:\n",
    "                view(qrCodes, processed_image,image)\n",
    "                \n",
    "        else:\n",
    "            view(qrCodes, equalized_gray, image)\n",
    "            \n",
    "\n",
    "    else:\n",
    "        view(qrCodes, image, image)\n"
   ]
  },
  {
   "cell_type": "code",
   "execution_count": 522,
   "metadata": {},
   "outputs": [
    {
     "name": "stdout",
     "output_type": "stream",
     "text": [
      "Không tìm thấy mã QR trong ảnh.\n",
      "https://qrco.de/bbyAiy - QRCODE\n"
     ]
    }
   ],
   "source": [
    "detect_qr_from_image(\"./Img/case9.png\")"
   ]
  },
  {
   "cell_type": "code",
   "execution_count": 523,
   "metadata": {},
   "outputs": [],
   "source": [
    "# detect_qr_from_camera()"
   ]
  }
 ],
 "metadata": {
  "kernelspec": {
   "display_name": "Python 3",
   "language": "python",
   "name": "python3"
  },
  "language_info": {
   "codemirror_mode": {
    "name": "ipython",
    "version": 3
   },
   "file_extension": ".py",
   "mimetype": "text/x-python",
   "name": "python",
   "nbconvert_exporter": "python",
   "pygments_lexer": "ipython3",
   "version": "3.10.12"
  }
 },
 "nbformat": 4,
 "nbformat_minor": 2
}
